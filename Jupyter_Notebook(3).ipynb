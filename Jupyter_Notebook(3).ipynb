{
 "cells": [
  {
   "cell_type": "markdown",
   "metadata": {},
   "source": [
    "<center>\n",
    "    <img src=\"https://cf-courses-data.s3.us.cloud-object-storage.appdomain.cloud/IBMDeveloperSkillsNetwork-DS0105EN-SkillsNetwork/labs/Module2/images/SN_web_lightmode.png\" width=\"300\" alt=\"cognitiveclass.ai logo\"  />\n",
    "</center>\n"
   ]
  },
  {
   "cell_type": "markdown",
   "metadata": {},
   "source": [
    "#### Add your code below following the instructions given in the course\n"
   ]
  },
  {
   "cell_type": "markdown",
   "metadata": {},
   "source": [
    "# My Jupyter Notebook on IBM Watson"
   ]
  },
  {
   "cell_type": "markdown",
   "metadata": {},
   "source": [
    "My name is **Nancy Lam** <br />\n",
    "My current position is Payroll Tax Administrator <br/>\n",
    "My desired occupation is Data Scientist "
   ]
  },
  {
   "cell_type": "markdown",
   "metadata": {},
   "source": [
    "### Simple math"
   ]
  },
  {
   "cell_type": "code",
   "execution_count": 1,
   "metadata": {},
   "outputs": [
    {
     "data": {
      "text/plain": [
       "2"
      ]
     },
     "execution_count": 1,
     "metadata": {},
     "output_type": "execute_result"
    }
   ],
   "source": [
    "1+1"
   ]
  },
  {
   "cell_type": "markdown",
   "metadata": {},
   "source": [
    "Bullet lists:\n",
    "- Mon\n",
    "- Tue\n",
    "- Wed\n",
    "- Thu\n",
    "- Fri\n",
    "- Sat\n",
    "- Sun\n",
    "\n",
    "Number lists:\n",
    "1. Jan\n",
    "2. Feb\n",
    "3. Mar\n",
    "4. Apr\n",
    "5. May\n",
    "6. Jun\n",
    "7. July\n",
    "8. Aug\n",
    "9. Sep\n",
    "10. Oct\n",
    "11. Nov\n",
    "12. Dec\n",
    "\n",
    "Horizontal lines\n",
    "***\n",
    "\n",
    "Blue boxes\n",
    "<div class=\"alert alert-block alert-info\">\n",
    "    <b>Tip:</b> Use blue boxes for tips and notes\n",
    "</div>"
   ]
  },
  {
   "cell_type": "code",
   "execution_count": null,
   "metadata": {},
   "outputs": [],
   "source": []
  }
 ],
 "metadata": {
  "kernelspec": {
   "display_name": "Python",
   "language": "python",
   "name": "conda-env-python-py"
  },
  "language_info": {
   "codemirror_mode": {
    "name": "ipython",
    "version": 3
   },
   "file_extension": ".py",
   "mimetype": "text/x-python",
   "name": "python",
   "nbconvert_exporter": "python",
   "pygments_lexer": "ipython3",
   "version": "3.7.12"
  }
 },
 "nbformat": 4,
 "nbformat_minor": 4
}
